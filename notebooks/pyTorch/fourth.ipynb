{
 "cells": [
  {
   "cell_type": "code",
   "execution_count": 1,
   "metadata": {},
   "outputs": [],
   "source": [
    "import numpy as np\n",
    "import matplotlib.pyplot as plt\n",
    "\n",
    "import sys\n",
    "from pathlib import Path\n",
    "\n",
    "#torch \n",
    "import torch\n",
    "import torchvision as torchv\n",
    "import torch.nn as nn\n",
    "import torch.nn.functional as F\n",
    "import torch.optim as optim\n",
    "from torch.utils.data import DataLoader\n",
    "from torch.utils.data import Dataset\n",
    "from torch import Tensor\n",
    "from torch.utils import data\n",
    "\n",
    "from sklearn.model_selection import train_test_split\n",
    "\n",
    "from sklearn.metrics import confusion_matrix\n",
    "import pandas as pd\n",
    "import seaborn as sn"
   ]
  },
  {
   "cell_type": "code",
   "execution_count": 2,
   "metadata": {},
   "outputs": [],
   "source": [
    "module_path = str(Path.cwd().parents[0].parents[0] / \"methods\")\n",
    "\n",
    "if module_path not in sys.path:\n",
    "    sys.path.append(module_path)\n",
    "\n",
    "from dataloader import *\n",
    "# from plotCreator import *\n",
    "\n",
    "data_path0 = str(Path.cwd().parents[0].parents[0] / \"data\" / \"BH_n4_M10_res50_15000_events.h5\")\n",
    "data_path1 = str(Path.cwd().parents[0].parents[0] / \"data\" / \"PP13-Sphaleron-THR9-FRZ15-NB0-NSUBPALL_res50_15000_events.h5\")"
   ]
  },
  {
   "cell_type": "code",
   "execution_count": 3,
   "metadata": {},
   "outputs": [],
   "source": [
    "#Hente data og sette til array\n",
    "bhArray = dataToArray(data_path0)\n",
    "sphArray = dataToArray(data_path1)\n",
    "\n",
    "# print(bhArray.shape)\n",
    "# print(sphArray.shape)"
   ]
  },
  {
   "cell_type": "code",
   "execution_count": 4,
   "metadata": {},
   "outputs": [],
   "source": [
    "#Kombinerer dataene for å kunne kjøre gjennom modellen på et samlet datasett\n",
    "dataArray = np.concatenate((bhArray,sphArray),axis=0)\n",
    "\n",
    "# np.shape(dataArray)"
   ]
  },
  {
   "cell_type": "code",
   "execution_count": 5,
   "metadata": {},
   "outputs": [],
   "source": [
    "# Labeler tabelle med 1 og 0 (0 = svart hull, 1 = spahleron)\n",
    "labelsArray = np.concatenate((np.zeros(np.shape(bhArray)[0]),np.ones(np.shape(sphArray)[0])),axis=0)"
   ]
  },
  {
   "cell_type": "code",
   "execution_count": 6,
   "metadata": {},
   "outputs": [
    {
     "name": "stdout",
     "output_type": "stream",
     "text": [
      "Running on the GPU\n"
     ]
    }
   ],
   "source": [
    "#Sjekker hvis GPU er brukt\n",
    "if torch.cuda.is_available():\n",
    "    device = torch.device(\"cuda\")\n",
    "    print(\"Running on the GPU\")\n",
    "else:\n",
    "    device = torch.device(\"cpu\")\n",
    "    print(\"Running on the CPU\")"
   ]
  },
  {
   "cell_type": "code",
   "execution_count": 7,
   "metadata": {},
   "outputs": [],
   "source": [
    "#Split data 75% i train og 25% i test\n",
    "trainData, testData, trainLabels, testLabels = train_test_split(dataArray, labelsArray, random_state=42)"
   ]
  },
  {
   "cell_type": "code",
   "execution_count": 8,
   "metadata": {},
   "outputs": [],
   "source": [
    "#Transformere data frå numpy array til torch\n",
    "trainData = torch.from_numpy(trainData)\n",
    "testData = torch.from_numpy(testData)\n",
    "trainLabels = torch.from_numpy(trainLabels)\n",
    "testLabels = torch.from_numpy(testLabels)"
   ]
  },
  {
   "cell_type": "code",
   "execution_count": 9,
   "metadata": {},
   "outputs": [],
   "source": [
    "#Transformere numpy til tensor\n",
    "train = torch.utils.data.TensorDataset(trainData, trainLabels)\n",
    "test = torch.utils.data.TensorDataset(testData, testLabels)"
   ]
  },
  {
   "cell_type": "code",
   "execution_count": 10,
   "metadata": {},
   "outputs": [],
   "source": [
    "#Sette data til å vere dataloaders\n",
    "trainLoader = DataLoader(train, shuffle=True, batch_size=50)\n",
    "testLoader = DataLoader(test, shuffle=True, batch_size=50)"
   ]
  },
  {
   "cell_type": "code",
   "execution_count": 11,
   "metadata": {},
   "outputs": [],
   "source": [
    "class SymmetricNet(nn.Module):\n",
    "    def __init__(self, dropout):\n",
    "        super(SymmetricNet, self).__init__()\n",
    "        \n",
    "        self.conv1 = nn.Conv2d(3, 128, 3) #first layer\n",
    "        self.bn1 = nn.BatchNorm2d(128)\n",
    "        self.pool1 = nn.AvgPool2d(2, 2)\n",
    "        self.dropout1 = nn.Dropout(dropout)\n",
    "        \n",
    "        self.conv2 = nn.Conv2d(128, 256, 4) #second layer\n",
    "        self.bn2 = nn.BatchNorm2d(256)\n",
    "        self.pool2 = nn.AvgPool2d(2, 2)\n",
    "        self.dropout2 = nn.Dropout(dropout)\n",
    "        \n",
    "        self.conv3 = nn.Conv2d(256, 512, 3) #third layer\n",
    "        self.bn3 = nn.BatchNorm2d(512)\n",
    "        self.pool3 = nn.AvgPool2d(2, 2)\n",
    "        self.dropout3 = nn.Dropout(dropout)\n",
    "        \n",
    "        self.conv4 = nn.Conv2d(512, 1024, 5, padding=2) #fourth layer\n",
    "        self.bn4 = nn.BatchNorm2d(1024)\n",
    "        self.pool4 = nn.AvgPool2d(2, 2)\n",
    "        self.dropout4 = nn.Dropout(dropout)\n",
    "        \n",
    "        self.fc1 = nn.Linear(1024 * 2 * 2, 256)\n",
    "        self.dropout5 = nn.Dropout(dropout)\n",
    "        \n",
    "        self.fc2 = nn.Linear(256, 2)\n",
    "\n",
    "    def forward(self, x):\n",
    "        x_flipped_horizontal = torch.flip(x, [3]) #flip horizontally\n",
    "        x_flipped_vertical = torch.flip(x, [2]) #flip vertically\n",
    "        x_rotated_180 = torch.rot90(x, 2, [2,3])#rotate 180\n",
    "        \n",
    "        x = F.relu(self.bn1(self.conv1(x)))\n",
    "        x_flipped_horizontal = F.relu(self.bn1(self.conv1(x_flipped_horizontal)))\n",
    "        x_flipped_vertical = F.relu(self.bn1(self.conv1(x_flipped_vertical)))\n",
    "        x_rotated_180 = F.relu(self.bn1(self.conv1(x_rotated_180)))\n",
    "        \n",
    "        x = self.pool1(x)\n",
    "        x_flipped_horizontal = self.pool1(x_flipped_horizontal)\n",
    "        x_flipped_vertical = self.pool1(x_flipped_vertical)\n",
    "        x_rotated_180 = self.pool1(x_rotated_180)\n",
    "        \n",
    "        x = (x + x_flipped_vertical + x_rotated_180) / 3\n",
    "        x = self.dropout1(x)\n",
    "        \n",
    "        x = F.relu(self.bn2(self.conv2(x)))\n",
    "        x = self.pool2(x)\n",
    "        x = self.dropout2(x)\n",
    "        \n",
    "        x = F.relu(self.bn3(self.conv3(x)))\n",
    "        x = self.pool3(x)\n",
    "        x = self.dropout3(x)\n",
    "        \n",
    "        x = F.relu(self.bn4(self.conv4(x)))\n",
    "        x = self.pool4(x)\n",
    "        x = self.dropout4(x)\n",
    "        \n",
    "        x = x.reshape(-1, 1024 * 2 * 2)\n",
    "        x = F.relu(self.fc1(x))\n",
    "        x = self.dropout5(x)\n",
    "        \n",
    "        x = self.fc2(x)\n",
    "        return x\n"
   ]
  },
  {
   "cell_type": "code",
   "execution_count": 12,
   "metadata": {},
   "outputs": [
    {
     "name": "stdout",
     "output_type": "stream",
     "text": [
      "----------------------------------------------------------------\n",
      "        Layer (type)               Output Shape         Param #\n",
      "================================================================\n",
      "            Conv2d-1          [-1, 128, 48, 48]           3,584\n",
      "       BatchNorm2d-2          [-1, 128, 48, 48]             256\n",
      "            Conv2d-3          [-1, 128, 48, 48]           3,584\n",
      "       BatchNorm2d-4          [-1, 128, 48, 48]             256\n",
      "            Conv2d-5          [-1, 128, 48, 48]           3,584\n",
      "       BatchNorm2d-6          [-1, 128, 48, 48]             256\n",
      "         AvgPool2d-7          [-1, 128, 24, 24]               0\n",
      "         AvgPool2d-8          [-1, 128, 24, 24]               0\n",
      "         AvgPool2d-9          [-1, 128, 24, 24]               0\n",
      "          Dropout-10          [-1, 128, 24, 24]               0\n",
      "           Conv2d-11          [-1, 256, 21, 21]         524,544\n",
      "      BatchNorm2d-12          [-1, 256, 21, 21]             512\n",
      "        AvgPool2d-13          [-1, 256, 10, 10]               0\n",
      "          Dropout-14          [-1, 256, 10, 10]               0\n",
      "           Conv2d-15            [-1, 512, 8, 8]       1,180,160\n",
      "      BatchNorm2d-16            [-1, 512, 8, 8]           1,024\n",
      "        AvgPool2d-17            [-1, 512, 4, 4]               0\n",
      "          Dropout-18            [-1, 512, 4, 4]               0\n",
      "           Conv2d-19           [-1, 1024, 4, 4]      13,108,224\n",
      "      BatchNorm2d-20           [-1, 1024, 4, 4]           2,048\n",
      "        AvgPool2d-21           [-1, 1024, 2, 2]               0\n",
      "          Dropout-22           [-1, 1024, 2, 2]               0\n",
      "           Linear-23                  [-1, 256]       1,048,832\n",
      "          Dropout-24                  [-1, 256]               0\n",
      "           Linear-25                    [-1, 2]             514\n",
      "================================================================\n",
      "Total params: 15,877,378\n",
      "Trainable params: 15,877,378\n",
      "Non-trainable params: 0\n",
      "----------------------------------------------------------------\n",
      "Input size (MB): 0.03\n",
      "Forward/backward pass size (MB): 18.80\n",
      "Params size (MB): 60.57\n",
      "Estimated Total Size (MB): 79.40\n",
      "----------------------------------------------------------------\n"
     ]
    }
   ],
   "source": [
    "from torchsummary import summary\n",
    "\n",
    "model = SymmetricNet(dropout=0.25).to(device)  # Move the model to the appropriate device\n",
    "\n",
    "# Print the model summary, make sure to provide appropriate input size (3, 50, 50) for the 3-channel 50x50 images\n",
    "summary(model, input_size=(3, 50, 50))"
   ]
  },
  {
   "cell_type": "code",
   "execution_count": 13,
   "metadata": {},
   "outputs": [],
   "source": [
    "def train(model, train_loader, test_loader, optimizer, criterion, n_epochs):\n",
    "    device = torch.device(\"cuda:0\" if torch.cuda.is_available() else \"cpu\")\n",
    "    # Initialize lists to store the metrics\n",
    "    train_losses = []\n",
    "    train_accs = []\n",
    "    test_losses = []\n",
    "    test_accs = []\n",
    "    #Start epoch\n",
    "    for epoch in range(n_epochs):\n",
    "        # Train\n",
    "        model.train()\n",
    "        train_loss = 0\n",
    "        correct = 0\n",
    "        total = 0\n",
    "    \n",
    "        #Train loop\n",
    "        for inputs, labels in train_loader:\n",
    "            inputs, labels = inputs.to(device, non_blocking=True).float(), labels.to(device, non_blocking=True).long()\n",
    "            optimizer.zero_grad()\n",
    "            outputs = model(inputs.permute(0, 3, 1, 2)).float()\n",
    "            loss = criterion(outputs, labels)\n",
    "            loss.backward()\n",
    "            optimizer.step()\n",
    "\n",
    "            train_loss += loss.item()\n",
    "            _, predicted = outputs.max(1)\n",
    "            total += labels.size(0)\n",
    "            correct += predicted.eq(labels).sum().item()\n",
    "        #Train loop end\n",
    "        \n",
    "\n",
    "        train_acc = 100 * correct / total\n",
    "        train_loss /= len(train_loader)\n",
    "\n",
    "        # Test\n",
    "        model.eval()\n",
    "        test_loss = 0\n",
    "        correct = 0\n",
    "        total = 0\n",
    "        with torch.no_grad():\n",
    "            for inputs, labels in test_loader:\n",
    "                inputs, labels = inputs.to(device, non_blocking=True).float(), labels.to(device, non_blocking=True).long()\n",
    "                outputs = model(inputs.permute(0, 3, 1, 2)).float()\n",
    "                loss = criterion(outputs, labels)\n",
    "\n",
    "                test_loss += loss.item()\n",
    "                _, predicted = outputs.max(1)\n",
    "                total += labels.size(0)\n",
    "                correct += predicted.eq(labels).sum().item()\n",
    "\n",
    "        test_acc = 100 * correct / total\n",
    "        test_loss /= len(test_loader)\n",
    "\n",
    "        # Print results\n",
    "        print(f\"Epoch {epoch+1}/{n_epochs}\")\n",
    "        print(f\"Train Loss: {train_loss:.4f}, Train Accuracy: {train_acc:.2f}%\")\n",
    "        print(f\"Test Loss: {test_loss:.4f}, Test Accuracy: {test_acc:.2f}%\")\n",
    "\n",
    "        # Append the metrics to the lists\n",
    "        train_losses.append(train_loss)\n",
    "        train_accs.append(train_acc)\n",
    "        test_losses.append(test_loss)\n",
    "        test_accs.append(test_acc)\n",
    "\n",
    "    # Plot the metrics\n",
    "    plt.figure(figsize=(10, 5))\n",
    "    plt.plot(train_losses, label='Train Loss')\n",
    "    plt.plot(test_losses, label='Test Loss')\n",
    "    plt.plot(train_accs, label='Train Accuracy')\n",
    "    plt.plot(test_accs, label='Test Accuracy')\n",
    "    plt.legend()\n",
    "    plt.title('Training and Testing Metrics')\n",
    "    plt.xlabel('Epoch')\n",
    "    plt.ylabel('Value')\n",
    "    plt.show()\n"
   ]
  },
  {
   "cell_type": "code",
   "execution_count": 14,
   "metadata": {},
   "outputs": [
    {
     "name": "stdout",
     "output_type": "stream",
     "text": [
      "Epoch 1/15\n",
      "Train Loss: 0.3587, Train Accuracy: 85.13%\n",
      "Test Loss: 0.2591, Test Accuracy: 89.36%\n",
      "Epoch 2/15\n",
      "Train Loss: 0.2917, Train Accuracy: 88.40%\n",
      "Test Loss: 0.2631, Test Accuracy: 89.73%\n",
      "Epoch 3/15\n",
      "Train Loss: 0.2791, Train Accuracy: 89.03%\n",
      "Test Loss: 0.2374, Test Accuracy: 90.36%\n",
      "Epoch 4/15\n",
      "Train Loss: 0.2591, Train Accuracy: 89.94%\n",
      "Test Loss: 0.2289, Test Accuracy: 90.53%\n",
      "Epoch 5/15\n",
      "Train Loss: 0.2520, Train Accuracy: 90.34%\n",
      "Test Loss: 0.2561, Test Accuracy: 89.41%\n",
      "Epoch 6/15\n",
      "Train Loss: 0.2443, Train Accuracy: 90.51%\n",
      "Test Loss: 0.2348, Test Accuracy: 90.57%\n",
      "Epoch 7/15\n",
      "Train Loss: 0.2340, Train Accuracy: 90.95%\n",
      "Test Loss: 0.2774, Test Accuracy: 88.12%\n",
      "Epoch 8/15\n",
      "Train Loss: 0.2331, Train Accuracy: 90.78%\n",
      "Test Loss: 0.2101, Test Accuracy: 91.49%\n",
      "Epoch 9/15\n",
      "Train Loss: 0.2260, Train Accuracy: 91.47%\n",
      "Test Loss: 0.3109, Test Accuracy: 86.49%\n",
      "Epoch 10/15\n",
      "Train Loss: 0.2203, Train Accuracy: 91.42%\n",
      "Test Loss: 0.1900, Test Accuracy: 92.16%\n",
      "Epoch 11/15\n",
      "Train Loss: 0.2186, Train Accuracy: 91.25%\n",
      "Test Loss: 0.3493, Test Accuracy: 85.47%\n",
      "Epoch 12/15\n",
      "Train Loss: 0.2220, Train Accuracy: 91.38%\n",
      "Test Loss: 0.2347, Test Accuracy: 91.20%\n",
      "Epoch 13/15\n",
      "Train Loss: 0.2137, Train Accuracy: 91.81%\n",
      "Test Loss: 0.1812, Test Accuracy: 92.55%\n",
      "Epoch 14/15\n",
      "Train Loss: 0.2117, Train Accuracy: 91.85%\n",
      "Test Loss: 0.1869, Test Accuracy: 92.31%\n",
      "Epoch 15/15\n",
      "Train Loss: 0.2103, Train Accuracy: 91.85%\n",
      "Test Loss: 0.2070, Test Accuracy: 92.08%\n"
     ]
    },
    {
     "data": {
      "image/png": "[encoded data removed]",
      "text/plain": [
       "<Figure size 1000x500 with 1 Axes>"
      ]
     },
     "metadata": {},
     "output_type": "display_data"
    }
   ],
   "source": [
    "# Set the learning rate and number of epochs\n",
    "n_epochs = 15\n",
    "\n",
    "# Create the model\n",
    "model = SymmetricNet(0.5).to(device)\n",
    "\n",
    "# Set up the optimizer and criterion\n",
    "optimizer = torch.optim.Adam(model.parameters())\n",
    "criterion = nn.CrossEntropyLoss()\n",
    "\n",
    "# Train the model\n",
    "train(model, trainLoader, testLoader, optimizer, criterion, n_epochs)"
   ]
  },
  {
   "attachments": {},
   "cell_type": "markdown",
   "metadata": {},
   "source": [
    "Code below makes it possible to save model"
   ]
  },
  {
   "cell_type": "code",
   "execution_count": 15,
   "metadata": {},
   "outputs": [],
   "source": [
    "# Define the file path to save the trained model\n",
    "# model_path = 'model.pth'\n",
    "\n",
    "# Train and save the model\n",
    "# train(model, train_loader, test_loader, optimizer, criterion, n_epochs)\n",
    "# torch.save(model.state_dict(), model_path)"
   ]
  },
  {
   "cell_type": "code",
   "execution_count": 16,
   "metadata": {},
   "outputs": [],
   "source": [
    "# # Define the file path to load the saved model\n",
    "# model_path = 'model.pth'\n",
    "\n",
    "# # Create an instance of the model and load the saved state dictionary\n",
    "# model = SymmetricNet(dropout=0.25)\n",
    "# model.load_state_dict(torch.load(model_path))"
   ]
  }
 ],
 "metadata": {
  "kernelspec": {
   "display_name": "DAT255",
   "language": "python",
   "name": "python3"
  },
  "language_info": {
   "codemirror_mode": {
    "name": "ipython",
    "version": 3
   },
   "file_extension": ".py",
   "mimetype": "text/x-python",
   "name": "python",
   "nbconvert_exporter": "python",
   "pygments_lexer": "ipython3",
   "version": "3.9.16"
  },
  "orig_nbformat": 4
 },
 "nbformat": 4,
 "nbformat_minor": 2
}
