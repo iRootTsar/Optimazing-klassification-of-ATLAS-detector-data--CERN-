{
 "cells": [
  {
   "cell_type": "code",
   "execution_count": 4,
   "metadata": {},
   "outputs": [],
   "source": [
    "import numpy as np\n",
    "import matplotlib.pyplot as plt\n",
    "from torchsummary import summary\n",
    "\n",
    "import sys\n",
    "from pathlib import Path\n",
    "\n",
    "#torch \n",
    "import torch\n",
    "import torchvision as torchv\n",
    "import torch.nn as nn\n",
    "import torch.nn.functional as F\n",
    "import torch.optim as optim\n",
    "from torch.utils.data import DataLoader\n",
    "from torch.utils.data import Dataset\n",
    "from torch import Tensor\n",
    "from torch.utils import data\n",
    "from PIL import Image\n",
    "from sklearn.model_selection import train_test_split\n",
    "import matplotlib.pyplot as plt\n",
    "\n",
    "from sklearn.metrics import confusion_matrix\n",
    "from sklearn.metrics import precision_recall_fscore_support\n",
    "\n",
    "import pandas as pd\n",
    "import seaborn as sn"
   ]
  },
  {
   "cell_type": "code",
   "execution_count": 6,
   "metadata": {},
   "outputs": [],
   "source": [
    "#Metode for å hente data frå mappe\n",
    "module_path = str(Path.cwd().parents[0].parents[0] / \"methods\")\n",
    "\n",
    "if module_path not in sys.path:\n",
    "    sys.path.append(module_path)\n",
    "\n",
    "from dataloader import *\n",
    "# from plotCreator import *\n",
    "\n",
    "data_path0 = str(Path.cwd().parents[0].parents[0] / \"data\" / \"BH_n4_M10_res50_15000_events.h5\")\n",
    "data_path1 = str(Path.cwd().parents[0].parents[0] / \"data\" / \"PP13-Sphaleron-THR9-FRZ15-NB0-NSUBPALL_res50_15000_events.h5\")"
   ]
  },
  {
   "cell_type": "code",
   "execution_count": 7,
   "metadata": {},
   "outputs": [],
   "source": [
    "#Hente data og sette til array\n",
    "bhArray = dataToArray(data_path0)\n",
    "sphArray = dataToArray(data_path1)"
   ]
  },
  {
   "cell_type": "code",
   "execution_count": 8,
   "metadata": {},
   "outputs": [],
   "source": [
    "#Kombinerer dataene for å kunne kjøre gjennom modellen på et samlet datasett\n",
    "dataArray = np.concatenate((bhArray,sphArray),axis=0)"
   ]
  },
  {
   "cell_type": "code",
   "execution_count": 9,
   "metadata": {},
   "outputs": [],
   "source": [
    "# Label array where BH is 0 and Sphalerons are 1\n",
    "labelsArray = np.concatenate((np.zeros(np.shape(bhArray)[0]),np.ones(np.shape(sphArray)[0])),axis=0)"
   ]
  },
  {
   "cell_type": "code",
   "execution_count": 10,
   "metadata": {},
   "outputs": [
    {
     "name": "stdout",
     "output_type": "stream",
     "text": [
      "Running on the GPU\n"
     ]
    }
   ],
   "source": [
    "#Check if device is running on GPU\n",
    "if torch.cuda.is_available():\n",
    "    device = torch.device(\"cuda\")\n",
    "    print(\"Running on the GPU\")\n",
    "else:\n",
    "    device = torch.device(\"cpu\")\n",
    "    print(\"Running on the CPU\")"
   ]
  },
  {
   "cell_type": "code",
   "execution_count": 11,
   "metadata": {},
   "outputs": [],
   "source": [
    "#Split data 75% into train and 25% into test\n",
    "trainData, testData, trainLabels, testLabels = train_test_split(dataArray, labelsArray, random_state=42)"
   ]
  },
  {
   "attachments": {},
   "cell_type": "markdown",
   "metadata": {},
   "source": [
    "Data augmentation process where we flip horizontally, vertically and rotate images by 180 degrees randomly thus increasing training set."
   ]
  },
  {
   "cell_type": "code",
   "execution_count": 41,
   "metadata": {},
   "outputs": [],
   "source": [
    "# def crop_image(img, crop_width_percent=0.8):\n",
    "#     width = img.shape[2]\n",
    "#     new_width = int(width * crop_width_percent)\n",
    "#     left_margin = (width - new_width) // 2\n",
    "#     return img[:, :, left_margin:left_margin + new_width]\n",
    "\n",
    "# def pad_image(img, original_width):\n",
    "#     width = img.shape[2]\n",
    "#     padding_width = (original_width - width) // 2\n",
    "#     return np.pad(img, ((0, 0), (0, 0), (padding_width, padding_width)), mode='constant')\n",
    "\n",
    "def augment_images(images):\n",
    "    images = np.moveaxis(images, -1, 1)\n",
    "    augmented_images = []\n",
    "    for img in images:\n",
    "        # original_width = img.shape[2]\n",
    "        # img_cropped = crop_image(img)\n",
    "        # img_padded = pad_image(img_cropped, original_width)\n",
    "        \n",
    "        img_flipped_horizontal = np.flip(img, axis=2)\n",
    "        img_flipped_vertical = np.flip(img, axis=1)\n",
    "        img_rotated_180 = np.rot90(img, 2, axes=(1, 2))\n",
    "\n",
    "        augmented_images.extend(\n",
    "            [img, img_flipped_horizontal, img_flipped_vertical, img_rotated_180]\n",
    "        )\n",
    "    return np.array(augmented_images)\n",
    "\n",
    "# Apply data augmentation only on the training set\n",
    "augmented_trainData = augment_images(trainData)\n",
    "\n",
    "# Repeat the labels for the training set to match the augmented dataset\n",
    "trainLabels_repeated = np.repeat(trainLabels, 4)\n",
    "\n",
    "# Convert the augmented training data and repeated labels to PyTorch tensors\n",
    "augmented_trainData = torch.from_numpy(augmented_trainData)\n",
    "trainLabels_repeated = torch.from_numpy(trainLabels_repeated)\n",
    "\n",
    "# Create a TensorDataset from the augmented training data and repeated labels\n",
    "train_augmented = torch.utils.data.TensorDataset(augmented_trainData, trainLabels_repeated)\n",
    "\n",
    "# Create a DataLoader for the augmented training dataset with shuffle enabled and batch size of 50\n",
    "trainLoader_augmented = DataLoader(train_augmented, shuffle=True, batch_size=50)\n",
    "\n",
    "# Apply the same preprocessing step to the test set as the training set\n",
    "testData_processed = np.moveaxis(testData, -1, 1)\n",
    "\n",
    "# Create a TensorDataset for the test data\n",
    "test = torch.utils.data.TensorDataset(torch.from_numpy(testData_processed), torch.from_numpy(testLabels))\n",
    "\n",
    "# Create a DataLoader for the test data with shuffle and batch size\n",
    "testLoader = DataLoader(test, shuffle=True, batch_size=50)"
   ]
  },
  {
   "cell_type": "code",
   "execution_count": 57,
   "metadata": {},
   "outputs": [
    {
     "name": "stderr",
     "output_type": "stream",
     "text": [
      "Clipping input data to the valid range for imshow with RGB data ([0..1] for floats or [0..255] for integers).\n"
     ]
    },
    {
     "data": {
      "image/png": "[encoded data removed]",
      "text/plain": [
       "<Figure size 1200x300 with 4 Axes>"
      ]
     },
     "metadata": {},
     "output_type": "display_data"
    },
    {
     "name": "stderr",
     "output_type": "stream",
     "text": [
      "Clipping input data to the valid range for imshow with RGB data ([0..1] for floats or [0..255] for integers).\n",
      "Clipping input data to the valid range for imshow with RGB data ([0..1] for floats or [0..255] for integers).\n",
      "Clipping input data to the valid range for imshow with RGB data ([0..1] for floats or [0..255] for integers).\n",
      "Clipping input data to the valid range for imshow with RGB data ([0..1] for floats or [0..255] for integers).\n"
     ]
    },
    {
     "data": {
      "image/png": "[encoded data removed]",
      "text/plain": [
       "<Figure size 1200x300 with 4 Axes>"
      ]
     },
     "metadata": {},
     "output_type": "display_data"
    }
   ],
   "source": [
    "def visualize_single(images, labels, title=\"Images\", augmentation_info=None):\n",
    "    n_images = len(images)\n",
    "    n_columns = 4\n",
    "    n_rows = (n_images + n_columns - 1) // n_columns\n",
    "    fig, axs = plt.subplots(n_rows, n_columns, figsize=(3 * n_columns, 3 * n_rows))\n",
    "    fig.suptitle(title)\n",
    "\n",
    "    for i in range(n_images):\n",
    "        if isinstance(images[i], np.ndarray):\n",
    "            img_rgb = np.moveaxis(images[i], 0, -1) if images[i].shape[0] == 3 else images[i]\n",
    "        elif isinstance(images[i], torch.Tensor):\n",
    "            img_rgb = np.moveaxis(images[i].numpy(), 0, -1)\n",
    "\n",
    "        ax = axs[i // n_columns, i % n_columns] if n_rows > 1 else axs[i % n_columns]\n",
    "        ax.imshow(img_rgb)\n",
    "        ax.set_title(f\"Label: {labels[i]}\")\n",
    "        if augmentation_info is not None:\n",
    "            ax.set_xlabel(augmentation_info[i])\n",
    "        ax.axis('off')\n",
    "\n",
    "    for i in range(n_images, n_rows * n_columns):\n",
    "        ax = axs[i // n_columns, i % n_columns] if n_rows > 1 else axs[i % n_columns]\n",
    "        ax.axis('off')\n",
    "\n",
    "    plt.show()\n",
    "\n",
    "\n",
    "n_samples = 1\n",
    "original_images = trainData[:n_samples]\n",
    "original_labels = trainLabels[:n_samples]\n",
    "augmented_images = augmented_trainData[:n_samples * 4]\n",
    "augmented_labels = trainLabels_repeated[:n_samples * 4]\n",
    "\n",
    "# Example augmentation info for each image\n",
    "augmentation_info = ['Original'] + ['Flip' for _ in range(3)] + ['Rotate']\n",
    "\n",
    "visualize_single(original_images, original_labels, title=\"Original Images\", augmentation_info=augmentation_info[:n_samples])\n",
    "visualize_single(augmented_images, augmented_labels, title=\"Augmented Images\", augmentation_info=augmentation_info[n_samples:])"
   ]
  },
  {
   "attachments": {},
   "cell_type": "markdown",
   "metadata": {},
   "source": [
    "Here we make a call on nnmodel.py in methods fodler where all our models resign"
   ]
  },
  {
   "cell_type": "code",
   "execution_count": 36,
   "metadata": {},
   "outputs": [
    {
     "name": "stdout",
     "output_type": "stream",
     "text": [
      "----------------------------------------------------------------\n",
      "        Layer (type)               Output Shape         Param #\n",
      "================================================================\n",
      "            Conv2d-1          [-1, 128, 48, 48]           3,584\n",
      "       BatchNorm2d-2          [-1, 128, 48, 48]             256\n",
      "            Conv2d-3          [-1, 128, 48, 48]           3,584\n",
      "       BatchNorm2d-4          [-1, 128, 48, 48]             256\n",
      "            Conv2d-5          [-1, 128, 48, 48]           3,584\n",
      "       BatchNorm2d-6          [-1, 128, 48, 48]             256\n",
      "            Conv2d-7          [-1, 128, 48, 48]           3,584\n",
      "       BatchNorm2d-8          [-1, 128, 48, 48]             256\n",
      "         AvgPool2d-9          [-1, 128, 24, 24]               0\n",
      "        AvgPool2d-10          [-1, 128, 24, 24]               0\n",
      "        AvgPool2d-11          [-1, 128, 24, 24]               0\n",
      "        AvgPool2d-12          [-1, 128, 24, 24]               0\n",
      "          Dropout-13          [-1, 128, 24, 24]               0\n",
      "           Conv2d-14          [-1, 256, 21, 21]         524,544\n",
      "      BatchNorm2d-15          [-1, 256, 21, 21]             512\n",
      "        AvgPool2d-16          [-1, 256, 10, 10]               0\n",
      "          Dropout-17          [-1, 256, 10, 10]               0\n",
      "           Conv2d-18            [-1, 512, 8, 8]       1,180,160\n",
      "      BatchNorm2d-19            [-1, 512, 8, 8]           1,024\n",
      "        AvgPool2d-20            [-1, 512, 4, 4]               0\n",
      "          Dropout-21            [-1, 512, 4, 4]               0\n",
      "           Conv2d-22           [-1, 1024, 4, 4]      13,108,224\n",
      "      BatchNorm2d-23           [-1, 1024, 4, 4]           2,048\n",
      "        AvgPool2d-24           [-1, 1024, 2, 2]               0\n",
      "          Dropout-25           [-1, 1024, 2, 2]               0\n",
      "           Linear-26                  [-1, 256]       1,048,832\n",
      "          Dropout-27                  [-1, 256]               0\n",
      "           Linear-28                    [-1, 2]             514\n",
      "================================================================\n",
      "Total params: 15,881,218\n",
      "Trainable params: 15,881,218\n",
      "Non-trainable params: 0\n",
      "----------------------------------------------------------------\n",
      "Input size (MB): 0.03\n",
      "Forward/backward pass size (MB): 23.87\n",
      "Params size (MB): 60.58\n",
      "Estimated Total Size (MB): 84.48\n",
      "----------------------------------------------------------------\n"
     ]
    }
   ],
   "source": [
    "model = nnmodel.SymmetricNet(0.5).to(device)  # Move the model to the appropriate device\n",
    "\n",
    "# Print the model summary, make sure to provide appropriate input size (3, 50, 50) for the 3-channel 50x50 images\n",
    "summary(model, (3, 50, 50))"
   ]
  },
  {
   "attachments": {},
   "cell_type": "markdown",
   "metadata": {},
   "source": [
    "Here we make a call on train method from methods folder file trainers.py where all training and testing happends as well as plotting of accuracy, loss, precision, recall etc."
   ]
  },
  {
   "cell_type": "code",
   "execution_count": 58,
   "metadata": {},
   "outputs": [
    {
     "name": "stdout",
     "output_type": "stream",
     "text": [
      "Epoch: 1/15\n",
      "Train Loss: 0.3098, Train Accuracy: 87.52%\n",
      "Test Loss: 0.2741, Test Accuracy: 89.01%\n"
     ]
    }
   ],
   "source": [
    "#Set the learning rate and number of epochs\n",
    "n_epochs = 15\n",
    "\n",
    "# Create the model\n",
    "model = nnmodel.SymmetricNet(0.6).to(device)\n",
    "\n",
    "# Set up the optimizer and criterion\n",
    "optimizer = torch.optim.Adam(model.parameters())\n",
    "criterion = nn.CrossEntropyLoss().to(device)\n",
    "\n",
    "# Train the model\n",
    "trainer.train(model, trainLoader_augmented, testLoader, optimizer, criterion, n_epochs)"
   ]
  },
  {
   "attachments": {},
   "cell_type": "markdown",
   "metadata": {},
   "source": [
    "Code below makes it possible to save model"
   ]
  },
  {
   "cell_type": "code",
   "execution_count": null,
   "metadata": {},
   "outputs": [],
   "source": [
    "# Define the file path to save the trained model\n",
    "# model_path = 'model.pth'\n",
    "\n",
    "# Train and save the model\n",
    "# train(model, train_loader, test_loader, optimizer, criterion, n_epochs)\n",
    "# torch.save(model.state_dict(), model_path)"
   ]
  },
  {
   "cell_type": "code",
   "execution_count": null,
   "metadata": {},
   "outputs": [],
   "source": [
    "# # Define the file path to load the saved model\n",
    "# model_path = 'model.pth'\n",
    "\n",
    "# # Create an instance of the model and load the saved state dictionary\n",
    "# model = SymmetricNet(dropout=0.25)\n",
    "# model.load_state_dict(torch.load(model_path))"
   ]
  }
 ],
 "metadata": {
  "kernelspec": {
   "display_name": "DAT255",
   "language": "python",
   "name": "python3"
  },
  "language_info": {
   "codemirror_mode": {
    "name": "ipython",
    "version": 3
   },
   "file_extension": ".py",
   "mimetype": "text/x-python",
   "name": "python",
   "nbconvert_exporter": "python",
   "pygments_lexer": "ipython3",
   "version": "3.9.16"
  },
  "orig_nbformat": 4
 },
 "nbformat": 4,
 "nbformat_minor": 2
}
