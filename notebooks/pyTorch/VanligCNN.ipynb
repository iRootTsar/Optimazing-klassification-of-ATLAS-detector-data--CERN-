{
 "cells": [
  {
   "attachments": {},
   "cell_type": "markdown",
   "metadata": {},
   "source": [
    "CNN med Pytorch"
   ]
  },
  {
   "cell_type": "code",
   "execution_count": 1,
   "metadata": {},
   "outputs": [],
   "source": [
    "import numpy as np\n",
    "import matplotlib.pyplot as plt\n",
    "\n",
    "import sys\n",
    "from pathlib import Path\n",
    "\n",
    "#torch \n",
    "import torch\n",
    "import torchvision as torchv\n",
    "import torch.nn as nn\n",
    "import torch.nn.functional as F\n",
    "import torch.optim as optim\n",
    "from torch.utils.data import DataLoader\n",
    "from torch.utils.data import Dataset\n",
    "from torch import Tensor\n",
    "from torch.utils import data\n",
    "\n",
    "from sklearn.model_selection import train_test_split\n",
    "\n",
    "from sklearn.metrics import confusion_matrix\n",
    "import pandas as pd\n",
    "import seaborn as sn"
   ]
  },
  {
   "cell_type": "code",
   "execution_count": 2,
   "metadata": {},
   "outputs": [],
   "source": [
    "module_path = str(Path.cwd().parents[0].parents[0] / \"methods\")\n",
    "\n",
    "if module_path not in sys.path:\n",
    "    sys.path.append(module_path)\n",
    "\n",
    "from dataloader import *\n",
    "# from plotCreator import *\n",
    "\n",
    "data_path0 = str(Path.cwd().parents[0].parents[0] / \"data\" / \"BH_n4_M10_res50_15000_events.h5\")\n",
    "data_path1 = str(Path.cwd().parents[0].parents[0] / \"data\" / \"PP13-Sphaleron-THR9-FRZ15-NB0-NSUBPALL_res50_15000_events.h5\")"
   ]
  },
  {
   "cell_type": "code",
   "execution_count": 3,
   "metadata": {},
   "outputs": [],
   "source": [
    "bhArray = dataToArray(data_path0)\n",
    "sphArray = dataToArray(data_path1)\n",
    "\n",
    "# print(bhArray.shape)\n",
    "# print(sphArray.shape)"
   ]
  },
  {
   "cell_type": "code",
   "execution_count": 4,
   "metadata": {},
   "outputs": [],
   "source": [
    "#Kombinerer dataene for å kunne kjøre gjennom modellen på et samlet datasett\n",
    "dataArray = np.concatenate((bhArray,sphArray),axis=0)\n",
    "\n",
    "# np.shape(dataArray)"
   ]
  },
  {
   "cell_type": "code",
   "execution_count": 5,
   "metadata": {},
   "outputs": [],
   "source": [
    "# Labeler tabelle med 1 og 0 (0 = svart hull, 1 = spahleron)\n",
    "labelsArray = np.concatenate((np.zeros(np.shape(bhArray)[0]),np.ones(np.shape(sphArray)[0])),axis=0)"
   ]
  },
  {
   "attachments": {},
   "cell_type": "markdown",
   "metadata": {},
   "source": [
    "Sjekk om køyrer på GPU eller CPU"
   ]
  },
  {
   "cell_type": "code",
   "execution_count": 6,
   "metadata": {},
   "outputs": [
    {
     "name": "stdout",
     "output_type": "stream",
     "text": [
      "Running on the GPU\n"
     ]
    }
   ],
   "source": [
    "if torch.cuda.is_available():\n",
    "    device = torch.device(\"cuda\")\n",
    "    print(\"Running on the GPU\")\n",
    "else:\n",
    "    device = torch.device(\"cpu\")\n",
    "    print(\"Running on the CPU\")"
   ]
  },
  {
   "cell_type": "code",
   "execution_count": 7,
   "metadata": {},
   "outputs": [],
   "source": [
    "#Split data 75% i train og 25% i test\n",
    "trainData, testData, trainLabels, testLabels = train_test_split(dataArray, labelsArray, random_state=42)"
   ]
  },
  {
   "cell_type": "code",
   "execution_count": 8,
   "metadata": {},
   "outputs": [],
   "source": [
    "trainData = torch.from_numpy(trainData)\n",
    "testData = torch.from_numpy(testData)\n",
    "trainLabels = torch.from_numpy(trainLabels)\n",
    "testLabels = torch.from_numpy(testLabels)"
   ]
  },
  {
   "cell_type": "code",
   "execution_count": 9,
   "metadata": {},
   "outputs": [],
   "source": [
    "#Transformere numpy til tensor\n",
    "train = torch.utils.data.TensorDataset(trainData, trainLabels)\n",
    "test = torch.utils.data.TensorDataset(testData, testLabels)"
   ]
  },
  {
   "cell_type": "code",
   "execution_count": 10,
   "metadata": {},
   "outputs": [],
   "source": [
    "#Sette data til å vere dataloaders\n",
    "trainLoader = DataLoader(train, shuffle=True, batch_size=50)\n",
    "testLoader = DataLoader(test, shuffle=True, batch_size=50)"
   ]
  },
  {
   "attachments": {},
   "cell_type": "markdown",
   "metadata": {},
   "source": [
    "Her er vårt CNN modell"
   ]
  },
  {
   "attachments": {},
   "cell_type": "markdown",
   "metadata": {},
   "source": [
    "Her skal det komme endrigane for å tilpasse første CNN"
   ]
  },
  {
   "cell_type": "code",
   "execution_count": 11,
   "metadata": {},
   "outputs": [],
   "source": [
    "#Define the ConvModel class\n",
    "class ConvModel(nn.Module):\n",
    "    #Constructor that initializes the layers of the model\n",
    "    def __init__(self, dropout):\n",
    "\n",
    "        super(ConvModel, self).__init__()\n",
    "        #opprette conv lag. Bildene har 3 lag \n",
    "        \n",
    "        #Dette funker ikke rør\n",
    "        #Define convolutional layers for the input image\n",
    "        #Input image has 3 challes, 3 layers\n",
    "        #The first convolutional layer has 16 output channels and uses a kernel size of 3x3\n",
    "        #ANd padding is set to 0\n",
    "        self.conv1 = nn.Conv2d(in_channels=3, out_channels=16, kernel_size=3, padding=0)\n",
    "        self.conv2 = nn.Conv2d(in_channels=16, out_channels=64, kernel_size=3, padding=0)\n",
    "        self.conv3 = nn.Conv2d(in_channels=64, out_channels=256, kernel_size=3, padding=0)\n",
    "        #kanskje ha flere layers?\n",
    "\n",
    "        #Unchange\n",
    "        #Define fully connected layers\n",
    "        #Input size to the first fully connected layer is 3*3*256\n",
    "        #The first fully connected layer has 128 output units\n",
    "        #The secon fully connected layer has 2 output units\n",
    "        self.fc1 = nn.Linear(3*3*256, 128)\n",
    "        self.fc2 = nn.Linear(128,2)\n",
    "\n",
    "        #Define the dropout layer to prevent overfitting\n",
    "        self.dropout = nn.Dropout(dropout)\n",
    "\n",
    "\n",
    "    #Enten her eller over skal komme endringane for convolutional layer\n",
    "    def forward(self, x:Tensor):\n",
    "        \n",
    "        #x = F.conv2d(x, self.conv1_filter, bias=self.conv1.bias, stride=1, padding=1)\n",
    "        #Apply first conv layer\n",
    "        x= self.conv1(x)\n",
    "        #Apply relu activation function\n",
    "        x = F.relu(x) \n",
    "        #Apply max pooling with a kernel size 2\n",
    "        x = F.max_pool2d(x,2)\n",
    "        #Apply the second conv layer\n",
    "        x = self.conv2(x)\n",
    "        #Apply relu activation function\n",
    "        x = F.relu(x)\n",
    "        #Apply max pooling with a kernel size of 2\n",
    "        x = F.max_pool2d(x,2)\n",
    "        #Apply the third conv layer\n",
    "        x = self.conv3(x)\n",
    "        #Apply relu activation function\n",
    "        x = F.relu(x)\n",
    "        #Appply max pooling with a kernel size 3\n",
    "        x = F.max_pool2d(x,3)\n",
    "        #Flatten the output of the conv layers\n",
    "        x = torch.flatten(x, 1)\n",
    "        \n",
    "        #Apply the first fully connected layer\n",
    "        x = self.fc1(x)\n",
    "        #Apply relu activation function\n",
    "        x = F.relu(x)\n",
    "        x = self.dropout(x)\n",
    "        #Apply teh second fully connected layer\n",
    "        x = self.fc2(x)\n",
    "        x = self.dropout(x)\n",
    "        #Apply droput to layers??\n",
    "        return x"
   ]
  },
  {
   "attachments": {},
   "cell_type": "markdown",
   "metadata": {},
   "source": [
    "summere modellen sine parametera"
   ]
  },
  {
   "cell_type": "code",
   "execution_count": 12,
   "metadata": {},
   "outputs": [
    {
     "name": "stdout",
     "output_type": "stream",
     "text": [
      "----------------------------------------------------------------\n",
      "        Layer (type)               Output Shape         Param #\n",
      "================================================================\n",
      "            Conv2d-1           [-1, 16, 48, 48]             448\n",
      "            Conv2d-2           [-1, 64, 22, 22]           9,280\n",
      "            Conv2d-3            [-1, 256, 9, 9]         147,712\n",
      "            Linear-4                  [-1, 128]         295,040\n",
      "           Dropout-5                  [-1, 128]               0\n",
      "            Linear-6                    [-1, 2]             258\n",
      "           Dropout-7                    [-1, 2]               0\n",
      "================================================================\n",
      "Total params: 452,738\n",
      "Trainable params: 452,738\n",
      "Non-trainable params: 0\n",
      "----------------------------------------------------------------\n",
      "Input size (MB): 0.03\n",
      "Forward/backward pass size (MB): 0.68\n",
      "Params size (MB): 1.73\n",
      "Estimated Total Size (MB): 2.43\n",
      "----------------------------------------------------------------\n"
     ]
    }
   ],
   "source": [
    "from torchsummary import summary\n",
    "\n",
    "#Her måp det endres sidan den aksepterer ikek parametere gitt\n",
    "model = ConvModel(0).to(device)\n",
    "summary(model, (3, 50, 50))"
   ]
  },
  {
   "attachments": {},
   "cell_type": "markdown",
   "metadata": {},
   "source": [
    "Trene modellen vår her, muligens implementere wandb her for å deploye modellen og se progressjonen og sammenligne med andre modeller samnt data agumentering kan komme med i denne delen av koden?"
   ]
  },
  {
   "cell_type": "code",
   "execution_count": 13,
   "metadata": {},
   "outputs": [],
   "source": [
    "def train(model, train_loader, test_loader, optimizer, criterion, n_epochs):\n",
    "    device = torch.device(\"cuda:0\" if torch.cuda.is_available() else \"cpu\")\n",
    "    model.to(device)\n",
    "\n",
    "    #Create empty tabel that will be used to plot accuracy throughout epoch runs\n",
    "    arr = []\n",
    "        \n",
    "    for epoch in range(n_epochs):\n",
    "        # Train\n",
    "        model.train()\n",
    "        train_loss = 0\n",
    "        \n",
    "        correct = 0\n",
    "        total = 0\n",
    "        \n",
    "        #Train loop\n",
    "        for inputs, labels in train_loader:\n",
    "            inputs, labels = inputs.to(device).float(), labels.to(device).long()\n",
    "            optimizer.zero_grad()\n",
    "            outputs = model(inputs.permute(0, 3, 1, 2)).float()\n",
    "            loss = criterion(outputs, labels)\n",
    "            loss.backward()\n",
    "            optimizer.step()\n",
    "\n",
    "            train_loss += loss.item()\n",
    "            _, predicted = outputs.max(1)\n",
    "            total += labels.size(0)\n",
    "            correct += predicted.eq(labels).sum().item()\n",
    "        #Train loop end\n",
    "        \n",
    "        \n",
    "        train_acc = 100 * correct / total\n",
    "        train_loss /= len(train_loader)\n",
    "        \n",
    "\n",
    "        # Test\n",
    "        model.eval()\n",
    "        test_loss = 0\n",
    "        correct = 0\n",
    "        total = 0\n",
    "        with torch.no_grad():\n",
    "            for inputs, labels in test_loader:\n",
    "                inputs, labels = inputs.to(device).float(), labels.to(device).long()\n",
    "                outputs = model(inputs.permute(0, 3, 1, 2)).float()\n",
    "                loss = criterion(outputs, labels)\n",
    "\n",
    "                test_loss += loss.item()\n",
    "                _, predicted = outputs.max(1)\n",
    "                total += labels.size(0)\n",
    "                correct += predicted.eq(labels).sum().item()\n",
    "\n",
    "        test_acc = 100 * correct / total\n",
    "        test_loss /= len(test_loader)\n",
    "\n",
    "        # Print results\n",
    "        \n",
    "        print(f\"Epoch {epoch+1}/{n_epochs}\")\n",
    "        print(f\"Train Loss: {train_loss:.4f}, Train Accuracy: {train_acc:.2f}%\")\n",
    "        print(f\"Test Loss: {test_loss:.4f}, Test Accuracy: {test_acc:.2f}%\")\n",
    "        \n",
    "        arr.append(train_acc)\n",
    "    \n",
    "    return arr    \n",
    "        #PRInt grafisk din løk"
   ]
  },
  {
   "attachments": {},
   "cell_type": "markdown",
   "metadata": {},
   "source": [
    "Gjør kall på modellen"
   ]
  },
  {
   "cell_type": "code",
   "execution_count": 15,
   "metadata": {},
   "outputs": [
    {
     "name": "stdout",
     "output_type": "stream",
     "text": [
      "Epoch 1/15\n",
      "Train Loss: 0.7668, Train Accuracy: 66.99%\n",
      "Test Loss: 0.4384, Test Accuracy: 81.80%\n",
      "Epoch 2/15\n",
      "Train Loss: 0.5050, Train Accuracy: 72.92%\n",
      "Test Loss: 0.4014, Test Accuracy: 83.87%\n",
      "Epoch 3/15\n",
      "Train Loss: 0.4607, Train Accuracy: 75.93%\n",
      "Test Loss: 0.3382, Test Accuracy: 85.93%\n",
      "Epoch 4/15\n",
      "Train Loss: 0.4338, Train Accuracy: 77.00%\n",
      "Test Loss: 0.3512, Test Accuracy: 86.04%\n",
      "Epoch 5/15\n",
      "Train Loss: 0.4223, Train Accuracy: 77.26%\n",
      "Test Loss: 0.3836, Test Accuracy: 83.12%\n",
      "Epoch 6/15\n",
      "Train Loss: 0.4083, Train Accuracy: 78.30%\n",
      "Test Loss: 0.3037, Test Accuracy: 87.79%\n",
      "Epoch 7/15\n",
      "Train Loss: 0.4013, Train Accuracy: 78.48%\n",
      "Test Loss: 0.3270, Test Accuracy: 86.69%\n",
      "Epoch 8/15\n",
      "Train Loss: 0.3968, Train Accuracy: 79.06%\n",
      "Test Loss: 0.2844, Test Accuracy: 88.15%\n",
      "Epoch 9/15\n",
      "Train Loss: 0.3907, Train Accuracy: 79.03%\n",
      "Test Loss: 0.2922, Test Accuracy: 87.69%\n",
      "Epoch 10/15\n",
      "Train Loss: 0.3901, Train Accuracy: 79.39%\n",
      "Test Loss: 0.2824, Test Accuracy: 88.35%\n",
      "Epoch 11/15\n",
      "Train Loss: 0.3708, Train Accuracy: 80.24%\n",
      "Test Loss: 0.3068, Test Accuracy: 87.59%\n",
      "Epoch 12/15\n",
      "Train Loss: 0.3765, Train Accuracy: 79.52%\n",
      "Test Loss: 0.3032, Test Accuracy: 87.75%\n",
      "Epoch 13/15\n",
      "Train Loss: 0.3698, Train Accuracy: 79.56%\n",
      "Test Loss: 0.2964, Test Accuracy: 88.21%\n",
      "Epoch 14/15\n",
      "Train Loss: 0.3680, Train Accuracy: 80.01%\n",
      "Test Loss: 0.2790, Test Accuracy: 88.35%\n",
      "Epoch 15/15\n",
      "Train Loss: 0.3581, Train Accuracy: 80.23%\n",
      "Test Loss: 0.2771, Test Accuracy: 88.76%\n"
     ]
    },
    {
     "data": {
      "text/plain": [
       "[<matplotlib.lines.Line2D at 0x1ef5f3a3160>]"
      ]
     },
     "execution_count": 15,
     "metadata": {},
     "output_type": "execute_result"
    },
    {
     "data": {
      "image/png": "[encoded data removed]",
      "text/plain": [
       "<Figure size 640x480 with 1 Axes>"
      ]
     },
     "metadata": {},
     "output_type": "display_data"
    }
   ],
   "source": [
    "model = ConvModel(dropout=0.5)\n",
    "criterion = nn.CrossEntropyLoss()\n",
    "optimizer = torch.optim.Adam(model.parameters())\n",
    "\n",
    "tabell = train(model, trainLoader, testLoader, optimizer, criterion, n_epochs=15)\n",
    "\n",
    "plt.plot(range(len(tabell)), tabell)\n"
   ]
  }
 ],
 "metadata": {
  "kernelspec": {
   "display_name": "DAT255",
   "language": "python",
   "name": "python3"
  },
  "language_info": {
   "codemirror_mode": {
    "name": "ipython",
    "version": 3
   },
   "file_extension": ".py",
   "mimetype": "text/x-python",
   "name": "python",
   "nbconvert_exporter": "python",
   "pygments_lexer": "ipython3",
   "version": "3.9.16"
  },
  "orig_nbformat": 4,
  "vscode": {
   "interpreter": {
    "hash": "d664d9bb41b9d3fab976584bc1e1a8560719b55467dc411ee4a441179259a613"
   }
  }
 },
 "nbformat": 4,
 "nbformat_minor": 2
}
